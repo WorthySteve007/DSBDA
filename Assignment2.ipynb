{
 "cells": [
  {
   "cell_type": "code",
   "execution_count": 1,
   "id": "3a4b9c3a",
   "metadata": {},
   "outputs": [],
   "source": [
    "import pandas as pd\n",
    "import numpy as np\n",
    "#Dataset CSV\n",
    "url = \"xAPI-Edu-Data.csv\"\n",
    "df = pd.read_csv(url)"
   ]
  },
  {
   "cell_type": "code",
   "execution_count": 2,
   "id": "37bda4b6",
   "metadata": {
    "scrolled": true
   },
   "outputs": [
    {
     "data": {
      "text/plain": [
       "(28, 13)"
      ]
     },
     "execution_count": 2,
     "metadata": {},
     "output_type": "execute_result"
    }
   ],
   "source": [
    "#print the dimension of dataset\n",
    "df.shape"
   ]
  },
  {
   "cell_type": "code",
   "execution_count": 3,
   "id": "4769f0ba",
   "metadata": {},
   "outputs": [
    {
     "name": "stdout",
     "output_type": "stream",
     "text": [
      "gender          6\n",
      "NationalITy     1\n",
      "PlaceofBirth    5\n",
      "StageID         2\n",
      "GradeID         1\n",
      "SectionID       0\n",
      "Topic           4\n",
      "Semester        0\n",
      "Relation        2\n",
      "cns             7\n",
      "dsa             1\n",
      "oops            0\n",
      "os              0\n",
      "dtype: int64\n"
     ]
    }
   ],
   "source": [
    "#check no null value in each column\n",
    "print(df.isnull().sum())"
   ]
  },
  {
   "cell_type": "code",
   "execution_count": 4,
   "id": "ebc86484",
   "metadata": {},
   "outputs": [
    {
     "name": "stdout",
     "output_type": "stream",
     "text": [
      "gender          0\n",
      "NationalITy     0\n",
      "PlaceofBirth    0\n",
      "StageID         0\n",
      "GradeID         0\n",
      "SectionID       0\n",
      "Topic           0\n",
      "Semester        0\n",
      "Relation        0\n",
      "cns             0\n",
      "dsa             0\n",
      "oops            0\n",
      "os              0\n",
      "dtype: int64\n"
     ]
    },
    {
     "data": {
      "text/plain": [
       "(9, 13)"
      ]
     },
     "execution_count": 4,
     "metadata": {},
     "output_type": "execute_result"
    }
   ],
   "source": [
    "#drop the whole row which having NULL value\n",
    "df.dropna(inplace=True)\n",
    "print(df.isnull().sum())\n",
    "df.shape\n",
    "#these changes not reflect with your dataset , only change in curr data frame \n",
    "#as you again read dataset, NULL are there as before"
   ]
  },
  {
   "cell_type": "code",
   "execution_count": 5,
   "id": "efff553c",
   "metadata": {},
   "outputs": [],
   "source": [
    "import pandas as pd\n",
    "#Dataset CSV\n",
    "url = \"xAPI-Edu-Data.csv\"\n",
    "df = pd.read_csv(url)"
   ]
  },
  {
   "cell_type": "code",
   "execution_count": 6,
   "id": "3a153e83",
   "metadata": {},
   "outputs": [
    {
     "name": "stdout",
     "output_type": "stream",
     "text": [
      "0     25.571429\n",
      "1     20.000000\n",
      "2     10.000000\n",
      "3     25.571429\n",
      "4     40.000000\n",
      "5     42.000000\n",
      "6     35.000000\n",
      "7     25.571429\n",
      "8     12.000000\n",
      "9     25.571429\n",
      "10    50.000000\n",
      "11    19.000000\n",
      "12     5.000000\n",
      "13    20.000000\n",
      "14    25.571429\n",
      "15    30.000000\n",
      "16    36.000000\n",
      "17    25.571429\n",
      "18    69.000000\n",
      "19    70.000000\n",
      "20    25.571429\n",
      "21    10.000000\n",
      "22    15.000000\n",
      "23     2.000000\n",
      "24     0.000000\n",
      "25     8.000000\n",
      "26    19.000000\n",
      "27    25.000000\n",
      "Name: cns, dtype: float64\n"
     ]
    }
   ],
   "source": [
    "#imputation by mean\n",
    "df[\"cns\"]=df[\"cns\"].replace(np.NAN,df[\"cns\"].mean())\n",
    "\n",
    "print(df[\"cns\"])"
   ]
  },
  {
   "cell_type": "code",
   "execution_count": 7,
   "id": "98b13b06",
   "metadata": {},
   "outputs": [],
   "source": [
    "import pandas as pd\n",
    "import numpy as np\n",
    "#Dataset CSV\n",
    "url = \"xAPI-Edu-Data.csv\"\n",
    "df = pd.read_csv(url)"
   ]
  },
  {
   "cell_type": "code",
   "execution_count": 8,
   "id": "a57abbd8",
   "metadata": {},
   "outputs": [
    {
     "name": "stdout",
     "output_type": "stream",
     "text": [
      "0     20.0\n",
      "1     20.0\n",
      "2     10.0\n",
      "3     20.0\n",
      "4     40.0\n",
      "5     42.0\n",
      "6     35.0\n",
      "7     20.0\n",
      "8     12.0\n",
      "9     20.0\n",
      "10    50.0\n",
      "11    19.0\n",
      "12     5.0\n",
      "13    20.0\n",
      "14    20.0\n",
      "15    30.0\n",
      "16    36.0\n",
      "17    20.0\n",
      "18    69.0\n",
      "19    70.0\n",
      "20    20.0\n",
      "21    10.0\n",
      "22    15.0\n",
      "23     2.0\n",
      "24     0.0\n",
      "25     8.0\n",
      "26    19.0\n",
      "27    25.0\n",
      "Name: cns, dtype: float64\n"
     ]
    }
   ],
   "source": [
    "#imputation by median\n",
    "\n",
    "df[\"cns\"]=df[\"cns\"].replace(np.NAN,df[\"cns\"].median())\n",
    "print(df[\"cns\"])\n"
   ]
  },
  {
   "cell_type": "code",
   "execution_count": 9,
   "id": "19071950",
   "metadata": {},
   "outputs": [],
   "source": [
    "\n",
    "#Dataset CSV\n",
    "url = \"xAPI-Edu-Data.csv\"\n",
    "df = pd.read_csv(url)"
   ]
  },
  {
   "cell_type": "code",
   "execution_count": 10,
   "id": "97609cc5",
   "metadata": {},
   "outputs": [
    {
     "name": "stdout",
     "output_type": "stream",
     "text": [
      "0     20.0\n",
      "1     20.0\n",
      "2     10.0\n",
      "3     20.0\n",
      "4     40.0\n",
      "5     42.0\n",
      "6     35.0\n",
      "7     20.0\n",
      "8     12.0\n",
      "9     20.0\n",
      "10    50.0\n",
      "11    19.0\n",
      "12     5.0\n",
      "13    20.0\n",
      "14    20.0\n",
      "15    30.0\n",
      "16    36.0\n",
      "17    20.0\n",
      "18    69.0\n",
      "19    70.0\n",
      "20    20.0\n",
      "21    10.0\n",
      "22    15.0\n",
      "23     2.0\n",
      "24     0.0\n",
      "25     8.0\n",
      "26    19.0\n",
      "27    25.0\n",
      "Name: cns, dtype: float64\n"
     ]
    }
   ],
   "source": [
    "#imputation by median\n",
    "\n",
    "import statistics\n",
    "df[\"cns\"]=df[\"cns\"].replace(np.NAN,statistics.mode(df[\"cns\"]))\n",
    "print(df[\"cns\"])"
   ]
  },
  {
   "cell_type": "code",
   "execution_count": 11,
   "id": "912528b1",
   "metadata": {},
   "outputs": [],
   "source": [
    "#Dataset CSV\n",
    "url = \"xAPI-Edu-Data.csv\"\n",
    "df = pd.read_csv(url)"
   ]
  },
  {
   "cell_type": "code",
   "execution_count": 12,
   "id": "3fecaa5f",
   "metadata": {},
   "outputs": [
    {
     "name": "stdout",
     "output_type": "stream",
     "text": [
      "0      NaN\n",
      "1     20.0\n",
      "2     10.0\n",
      "3     25.0\n",
      "4     40.0\n",
      "5     42.0\n",
      "6     35.0\n",
      "7     23.5\n",
      "8     12.0\n",
      "9     31.0\n",
      "10    50.0\n",
      "11    19.0\n",
      "12     5.0\n",
      "13    20.0\n",
      "14    25.0\n",
      "15    30.0\n",
      "16    36.0\n",
      "17    52.5\n",
      "18    69.0\n",
      "19    70.0\n",
      "20    40.0\n",
      "21    10.0\n",
      "22    15.0\n",
      "23     2.0\n",
      "24     0.0\n",
      "25     8.0\n",
      "26    19.0\n",
      "27    25.0\n",
      "Name: cns, dtype: float64\n"
     ]
    }
   ],
   "source": [
    "#imputation by interpolation -linear\n",
    "df[\"cns\"]=df[\"cns\"].interpolate(method='linear',limit_direction='forward',axis=0)\n",
    "print(df[\"cns\"])"
   ]
  },
  {
   "cell_type": "code",
   "execution_count": 13,
   "id": "6ef03aa0",
   "metadata": {},
   "outputs": [
    {
     "name": "stdout",
     "output_type": "stream",
     "text": [
      "gender          6\n",
      "NationalITy     1\n",
      "PlaceofBirth    5\n",
      "StageID         2\n",
      "GradeID         1\n",
      "SectionID       0\n",
      "Topic           4\n",
      "Semester        0\n",
      "Relation        2\n",
      "cns             7\n",
      "dsa             1\n",
      "oops            0\n",
      "os              0\n",
      "dtype: int64\n"
     ]
    },
    {
     "data": {
      "text/plain": [
       "(28, 13)"
      ]
     },
     "execution_count": 13,
     "metadata": {},
     "output_type": "execute_result"
    }
   ],
   "source": [
    "#Dataset CSV\n",
    "url = \"xAPI-Edu-Data.csv\"\n",
    "df = pd.read_csv(url)\n",
    "\n",
    "print(df.isnull().sum())\n",
    "df.shape"
   ]
  },
  {
   "cell_type": "code",
   "execution_count": 14,
   "id": "3b006ae5",
   "metadata": {},
   "outputs": [
    {
     "name": "stdout",
     "output_type": "stream",
     "text": [
      "0     unknow\n",
      "1          M\n",
      "2          M\n",
      "3          M\n",
      "4     unknow\n",
      "5          F\n",
      "6          M\n",
      "7          M\n",
      "8          F\n",
      "9          F\n",
      "10         M\n",
      "11         M\n",
      "12         M\n",
      "13         M\n",
      "14         F\n",
      "15         F\n",
      "16    unknow\n",
      "17         M\n",
      "18         F\n",
      "19    unknow\n",
      "20         F\n",
      "21         F\n",
      "22         M\n",
      "23    unknow\n",
      "24         M\n",
      "25         M\n",
      "26    unknow\n",
      "27         M\n",
      "Name: gender, dtype: object\n"
     ]
    }
   ],
   "source": [
    "#replace categorical variable with random value\n",
    "df[\"gender\"]=df[\"gender\"].fillna('unknow')\n",
    "print(df[\"gender\"])"
   ]
  },
  {
   "cell_type": "code",
   "execution_count": 15,
   "id": "786d59cb",
   "metadata": {},
   "outputs": [
    {
     "name": "stdout",
     "output_type": "stream",
     "text": [
      "0     NaN\n",
      "1       M\n",
      "2       M\n",
      "3       M\n",
      "4       M\n",
      "5       F\n",
      "6       M\n",
      "7       M\n",
      "8       F\n",
      "9       F\n",
      "10      M\n",
      "11      M\n",
      "12      M\n",
      "13      M\n",
      "14      F\n",
      "15      F\n",
      "16      F\n",
      "17      M\n",
      "18      F\n",
      "19      F\n",
      "20      F\n",
      "21      F\n",
      "22      M\n",
      "23      M\n",
      "24      M\n",
      "25      M\n",
      "26      M\n",
      "27      M\n",
      "Name: gender, dtype: object\n"
     ]
    }
   ],
   "source": [
    "#Dataset CSV\n",
    "url = \"xAPI-Edu-Data.csv\"\n",
    "df = pd.read_csv(url)\n",
    "\n",
    "#replace categorical variable with previous value\n",
    "df[\"gender\"]=df[\"gender\"].fillna(method='ffill')\n",
    "print(df[\"gender\"])"
   ]
  },
  {
   "cell_type": "code",
   "execution_count": 16,
   "id": "19538a50",
   "metadata": {},
   "outputs": [
    {
     "name": "stdout",
     "output_type": "stream",
     "text": [
      "0     100\n",
      "1       M\n",
      "2       M\n",
      "3       M\n",
      "4     100\n",
      "5       F\n",
      "6       M\n",
      "7       M\n",
      "8       F\n",
      "9       F\n",
      "10      M\n",
      "11      M\n",
      "12      M\n",
      "13      M\n",
      "14      F\n",
      "15      F\n",
      "16    100\n",
      "17      M\n",
      "18      F\n",
      "19    100\n",
      "20      F\n",
      "21      F\n",
      "22      M\n",
      "23    100\n",
      "24      M\n",
      "25      M\n",
      "26    100\n",
      "27      M\n",
      "Name: gender, dtype: object\n"
     ]
    }
   ],
   "source": [
    "#Dataset CSV\n",
    "url = \"xAPI-Edu-Data.csv\"\n",
    "df = pd.read_csv(url)\n",
    "\n",
    "#create the inconsistent data(as any no is not the value for gender)\n",
    "df[\"gender\"]=df[\"gender\"].fillna(100)\n",
    "print(df[\"gender\"])\n"
   ]
  },
  {
   "cell_type": "code",
   "execution_count": 17,
   "id": "94e59bed",
   "metadata": {},
   "outputs": [],
   "source": [
    "#so we replace the inconsistent data with NULL value\n",
    "cnt=0;\n",
    "for row in df[\"gender\"]:\n",
    "    try:\n",
    "        int(row)\n",
    "        df.loc[cnt,\"gender\"]=np.nan\n",
    "    except ValueError:\n",
    "        pass\n",
    "    cnt+=1"
   ]
  },
  {
   "cell_type": "code",
   "execution_count": 18,
   "id": "2a6e0083",
   "metadata": {},
   "outputs": [
    {
     "name": "stdout",
     "output_type": "stream",
     "text": [
      "0     NaN\n",
      "1       M\n",
      "2       M\n",
      "3       M\n",
      "4     NaN\n",
      "5       F\n",
      "6       M\n",
      "7       M\n",
      "8       F\n",
      "9       F\n",
      "10      M\n",
      "11      M\n",
      "12      M\n",
      "13      M\n",
      "14      F\n",
      "15      F\n",
      "16    NaN\n",
      "17      M\n",
      "18      F\n",
      "19    NaN\n",
      "20      F\n",
      "21      F\n",
      "22      M\n",
      "23    NaN\n",
      "24      M\n",
      "25      M\n",
      "26    NaN\n",
      "27      M\n",
      "Name: gender, dtype: object\n"
     ]
    }
   ],
   "source": [
    "#so the value with 100 replace by NULL\n",
    "print(df[\"gender\"])"
   ]
  },
  {
   "cell_type": "code",
   "execution_count": null,
   "id": "6e5ef166",
   "metadata": {},
   "outputs": [],
   "source": []
  }
 ],
 "metadata": {
  "kernelspec": {
   "display_name": "Python 3 (ipykernel)",
   "language": "python",
   "name": "python3"
  },
  "language_info": {
   "codemirror_mode": {
    "name": "ipython",
    "version": 3
   },
   "file_extension": ".py",
   "mimetype": "text/x-python",
   "name": "python",
   "nbconvert_exporter": "python",
   "pygments_lexer": "ipython3",
   "version": "3.9.0"
  }
 },
 "nbformat": 4,
 "nbformat_minor": 5
}
